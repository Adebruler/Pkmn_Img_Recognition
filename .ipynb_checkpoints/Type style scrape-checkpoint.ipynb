{
 "cells": [
  {
   "cell_type": "code",
   "execution_count": 1,
   "metadata": {},
   "outputs": [],
   "source": [
    "# Import Dependencies\n",
    "import pandas as pd\n",
    "import requests\n",
    "from bs4 import BeautifulSoup\n",
    "import urllib"
   ]
  },
  {
   "cell_type": "code",
   "execution_count": 2,
   "metadata": {},
   "outputs": [],
   "source": [
    "# Data Source: BulbaPedia\n",
    "url = 'https://bulbapedia.bulbagarden.net/wiki/Type'"
   ]
  },
  {
   "cell_type": "code",
   "execution_count": 3,
   "metadata": {},
   "outputs": [],
   "source": [
    "# Create soup response to find the table with formatted text cells for the types\n",
    "type_table=[]\n",
    "while len(type_table) < 1:\n",
    "    response=requests.get(url)\n",
    "    soup=BeautifulSoup(response.text,'html.parser')\n",
    "    type_table=soup.find('table')"
   ]
  },
  {
   "cell_type": "code",
   "execution_count": 4,
   "metadata": {},
   "outputs": [],
   "source": [
    "# Select only the cells that contain the formatting for the relevant types\n",
    "type_cells=type_table.select('td[colspan]')[0:18]"
   ]
  },
  {
   "cell_type": "code",
   "execution_count": 23,
   "metadata": {},
   "outputs": [
    {
     "name": "stdout",
     "output_type": "stream",
     "text": [
      "200\n",
      "border-radius: 20px; -moz-border-radius: 20px; -webkit-border-radius: 20px; -khtml-border-radius: 20px; -icab-border-radius: 20px; -o-border-radius: 20px; background:#EE99AC;\n"
     ]
    }
   ],
   "source": [
    "curr_style = type_cells[i]['style']\n",
    "print(len(curr_style))\n",
    "print(curr_style[:174])"
   ]
  },
  {
   "cell_type": "code",
   "execution_count": 24,
   "metadata": {},
   "outputs": [
    {
     "name": "stdout",
     "output_type": "stream",
     "text": [
      "{'Normal': {'link': '/wiki/Normal_(type)', 'style': 'border-radius: 20px; -moz-border-radius: 20px; -webkit-border-radius: 20px; -khtml-border-radius: 20px; -icab-border-radius: 20px; -o-border-radius: 20px; background:#A8A878;'}, 'Fire': {'link': '/wiki/Fire_(type)', 'style': 'border-radius: 20px; -moz-border-radius: 20px; -webkit-border-radius: 20px; -khtml-border-radius: 20px; -icab-border-radius: 20px; -o-border-radius: 20px; background:#F08030;'}, 'Fighting': {'link': '/wiki/Fighting_(type)', 'style': 'border-radius: 20px; -moz-border-radius: 20px; -webkit-border-radius: 20px; -khtml-border-radius: 20px; -icab-border-radius: 20px; -o-border-radius: 20px; background:#C03028;'}, 'Water': {'link': '/wiki/Water_(type)', 'style': 'border-radius: 20px; -moz-border-radius: 20px; -webkit-border-radius: 20px; -khtml-border-radius: 20px; -icab-border-radius: 20px; -o-border-radius: 20px; background:#6890F0;'}, 'Flying': {'link': '/wiki/Flying_(type)', 'style': 'border-radius: 20px; -moz-border-radius: 20px; -webkit-border-radius: 20px; -khtml-border-radius: 20px; -icab-border-radius: 20px; -o-border-radius: 20px; background:#A890F0;'}, 'Grass': {'link': '/wiki/Grass_(type)', 'style': 'border-radius: 20px; -moz-border-radius: 20px; -webkit-border-radius: 20px; -khtml-border-radius: 20px; -icab-border-radius: 20px; -o-border-radius: 20px; background:#78C850;'}, 'Poison': {'link': '/wiki/Poison_(type)', 'style': 'border-radius: 20px; -moz-border-radius: 20px; -webkit-border-radius: 20px; -khtml-border-radius: 20px; -icab-border-radius: 20px; -o-border-radius: 20px; background:#A040A0;'}, 'Electric': {'link': '/wiki/Electric_(type)', 'style': 'border-radius: 20px; -moz-border-radius: 20px; -webkit-border-radius: 20px; -khtml-border-radius: 20px; -icab-border-radius: 20px; -o-border-radius: 20px; background:#F8D030;'}, 'Ground': {'link': '/wiki/Ground_(type)', 'style': 'border-radius: 20px; -moz-border-radius: 20px; -webkit-border-radius: 20px; -khtml-border-radius: 20px; -icab-border-radius: 20px; -o-border-radius: 20px; background:#E0C068;'}, 'Psychic': {'link': '/wiki/Psychic_(type)', 'style': 'border-radius: 20px; -moz-border-radius: 20px; -webkit-border-radius: 20px; -khtml-border-radius: 20px; -icab-border-radius: 20px; -o-border-radius: 20px; background:#F85888;'}, 'Rock': {'link': '/wiki/Rock_(type)', 'style': 'border-radius: 20px; -moz-border-radius: 20px; -webkit-border-radius: 20px; -khtml-border-radius: 20px; -icab-border-radius: 20px; -o-border-radius: 20px; background:#B8A038;'}, 'Ice': {'link': '/wiki/Ice_(type)', 'style': 'border-radius: 20px; -moz-border-radius: 20px; -webkit-border-radius: 20px; -khtml-border-radius: 20px; -icab-border-radius: 20px; -o-border-radius: 20px; background:#98D8D8;'}, 'Bug': {'link': '/wiki/Bug_(type)', 'style': 'border-radius: 20px; -moz-border-radius: 20px; -webkit-border-radius: 20px; -khtml-border-radius: 20px; -icab-border-radius: 20px; -o-border-radius: 20px; background:#A8B820;'}, 'Dragon': {'link': '/wiki/Dragon_(type)', 'style': 'border-radius: 20px; -moz-border-radius: 20px; -webkit-border-radius: 20px; -khtml-border-radius: 20px; -icab-border-radius: 20px; -o-border-radius: 20px; background:#7038F8;'}, 'Ghost': {'link': '/wiki/Ghost_(type)', 'style': 'border-radius: 20px; -moz-border-radius: 20px; -webkit-border-radius: 20px; -khtml-border-radius: 20px; -icab-border-radius: 20px; -o-border-radius: 20px; background:#705898;'}, 'Dark': {'link': '/wiki/Dark_(type)', 'style': 'border-radius: 20px; -moz-border-radius: 20px; -webkit-border-radius: 20px; -khtml-border-radius: 20px; -icab-border-radius: 20px; -o-border-radius: 20px; background:#705848;'}, 'Steel': {'link': '/wiki/Steel_(type)', 'style': 'border-radius: 20px; -moz-border-radius: 20px; -webkit-border-radius: 20px; -khtml-border-radius: 20px; -icab-border-radius: 20px; -o-border-radius: 20px; background:#B8B8D0;'}, 'Fairy': {'link': '/wiki/Fairy_(type)', 'style': 'border-radius: 20px; -moz-border-radius: 20px; -webkit-border-radius: 20px; -khtml-border-radius: 20px; -icab-border-radius: 20px; -o-border-radius: 20px; background:#EE99AC;'}}\n"
     ]
    }
   ],
   "source": [
    "# Organize links and style by type for easy reference\n",
    "type_dict={}\n",
    "for i in range(18):\n",
    "    curr_type = type_cells[i].text[1:-1]\n",
    "    curr_link = type_cells[i].find('a')['href']\n",
    "    curr_style = type_cells[i]['style'][:174]\n",
    "    type_dict[curr_type] = {'link': curr_link, 'style':curr_style}\n",
    "print(type_dict)"
   ]
  },
  {
   "cell_type": "code",
   "execution_count": null,
   "metadata": {},
   "outputs": [],
   "source": []
  }
 ],
 "metadata": {
  "kernelspec": {
   "display_name": "Python 3",
   "language": "python",
   "name": "python3"
  },
  "language_info": {
   "codemirror_mode": {
    "name": "ipython",
    "version": 3
   },
   "file_extension": ".py",
   "mimetype": "text/x-python",
   "name": "python",
   "nbconvert_exporter": "python",
   "pygments_lexer": "ipython3",
   "version": "3.6.5"
  }
 },
 "nbformat": 4,
 "nbformat_minor": 2
}
